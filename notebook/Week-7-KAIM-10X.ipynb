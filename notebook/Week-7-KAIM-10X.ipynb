{
 "cells": [
  {
   "cell_type": "markdown",
   "metadata": {},
   "source": []
  },
  {
   "cell_type": "code",
   "execution_count": 2,
   "metadata": {},
   "outputs": [],
   "source": [
    "import pandas as pd\n",
    "import numpy as np\n",
    "import matplotlib.pyplot  as plt\n",
    "import matplotlib as mp\n",
    "import streamlit as st\n",
    "import seaborn as sns\n",
    "from scipy.stats import zscore\n",
    "from mpl_toolkits.mplot3d import Axes3D\n",
    "import ipywidgets as widgets "
   ]
  },
  {
   "cell_type": "code",
   "execution_count": 3,
   "metadata": {},
   "outputs": [
    {
     "data": {
      "text/html": [
       "<div>\n",
       "<style scoped>\n",
       "    .dataframe tbody tr th:only-of-type {\n",
       "        vertical-align: middle;\n",
       "    }\n",
       "\n",
       "    .dataframe tbody tr th {\n",
       "        vertical-align: top;\n",
       "    }\n",
       "\n",
       "    .dataframe thead th {\n",
       "        text-align: right;\n",
       "    }\n",
       "</style>\n",
       "<table border=\"1\" class=\"dataframe\">\n",
       "  <thead>\n",
       "    <tr style=\"text-align: right;\">\n",
       "      <th></th>\n",
       "      <th>Channel Title</th>\n",
       "      <th>Channel Username</th>\n",
       "      <th>ID</th>\n",
       "      <th>Message</th>\n",
       "      <th>Date</th>\n",
       "      <th>Media Path</th>\n",
       "    </tr>\n",
       "  </thead>\n",
       "  <tbody>\n",
       "    <tr>\n",
       "      <th>0</th>\n",
       "      <td>Doctors Ethiopia</td>\n",
       "      <td>@DoctorsET</td>\n",
       "      <td>864</td>\n",
       "      <td>https://youtu.be/5DBoEm-8kmA?si=LDLuEecNfULJVD...</td>\n",
       "      <td>2023-12-18 17:04:02+00:00</td>\n",
       "      <td>NaN</td>\n",
       "    </tr>\n",
       "    <tr>\n",
       "      <th>1</th>\n",
       "      <td>Doctors Ethiopia</td>\n",
       "      <td>@DoctorsET</td>\n",
       "      <td>863</td>\n",
       "      <td>ዶክተርስ ኢትዮጵያ በ አዲስ አቀራረብ በ ቴሌቪዥን ፕሮግራሙን ለመጀመር ከ...</td>\n",
       "      <td>2023-11-03 16:14:39+00:00</td>\n",
       "      <td>NaN</td>\n",
       "    </tr>\n",
       "    <tr>\n",
       "      <th>2</th>\n",
       "      <td>Doctors Ethiopia</td>\n",
       "      <td>@DoctorsET</td>\n",
       "      <td>862</td>\n",
       "      <td>ሞት በስኳር \\r\\n\\r\\nለልጆቻችን የምናሲዘው ምሳቃ ሳናቀው እድሚያቸውን...</td>\n",
       "      <td>2023-10-02 16:37:39+00:00</td>\n",
       "      <td>NaN</td>\n",
       "    </tr>\n",
       "    <tr>\n",
       "      <th>3</th>\n",
       "      <td>Doctors Ethiopia</td>\n",
       "      <td>@DoctorsET</td>\n",
       "      <td>861</td>\n",
       "      <td>ከ HIV የተፈወሰ ሰው አጋጥሟችሁ ያቃል ? ፈውስ እና ህክምና ?\\r\\n\\...</td>\n",
       "      <td>2023-09-16 07:54:32+00:00</td>\n",
       "      <td>NaN</td>\n",
       "    </tr>\n",
       "    <tr>\n",
       "      <th>4</th>\n",
       "      <td>Doctors Ethiopia</td>\n",
       "      <td>@DoctorsET</td>\n",
       "      <td>860</td>\n",
       "      <td>በቅርብ ጊዜ በሃገራችን ላይ እየተስተዋለ ያለ የተመሳሳይ ፆታ ( Homos...</td>\n",
       "      <td>2023-09-01 16:16:15+00:00</td>\n",
       "      <td>NaN</td>\n",
       "    </tr>\n",
       "  </tbody>\n",
       "</table>\n",
       "</div>"
      ],
      "text/plain": [
       "      Channel Title Channel Username   ID  \\\n",
       "0  Doctors Ethiopia       @DoctorsET  864   \n",
       "1  Doctors Ethiopia       @DoctorsET  863   \n",
       "2  Doctors Ethiopia       @DoctorsET  862   \n",
       "3  Doctors Ethiopia       @DoctorsET  861   \n",
       "4  Doctors Ethiopia       @DoctorsET  860   \n",
       "\n",
       "                                             Message  \\\n",
       "0  https://youtu.be/5DBoEm-8kmA?si=LDLuEecNfULJVD...   \n",
       "1  ዶክተርስ ኢትዮጵያ በ አዲስ አቀራረብ በ ቴሌቪዥን ፕሮግራሙን ለመጀመር ከ...   \n",
       "2  ሞት በስኳር \\r\\n\\r\\nለልጆቻችን የምናሲዘው ምሳቃ ሳናቀው እድሚያቸውን...   \n",
       "3  ከ HIV የተፈወሰ ሰው አጋጥሟችሁ ያቃል ? ፈውስ እና ህክምና ?\\r\\n\\...   \n",
       "4  በቅርብ ጊዜ በሃገራችን ላይ እየተስተዋለ ያለ የተመሳሳይ ፆታ ( Homos...   \n",
       "\n",
       "                        Date Media Path  \n",
       "0  2023-12-18 17:04:02+00:00        NaN  \n",
       "1  2023-11-03 16:14:39+00:00        NaN  \n",
       "2  2023-10-02 16:37:39+00:00        NaN  \n",
       "3  2023-09-16 07:54:32+00:00        NaN  \n",
       "4  2023-09-01 16:16:15+00:00        NaN  "
      ]
     },
     "execution_count": 3,
     "metadata": {},
     "output_type": "execute_result"
    }
   ],
   "source": [
    "tg_data1 = pd.read_csv(r'C:\\Users\\pc\\Desktop\\KAIM10X\\Week-7-KAIM-10X\\Week-7-10X\\scripts\\1_telegram_data.csv')\n",
    "tg_data1.head()"
   ]
  },
  {
   "cell_type": "code",
   "execution_count": 4,
   "metadata": {},
   "outputs": [
    {
     "data": {
      "text/html": [
       "<div>\n",
       "<style scoped>\n",
       "    .dataframe tbody tr th:only-of-type {\n",
       "        vertical-align: middle;\n",
       "    }\n",
       "\n",
       "    .dataframe tbody tr th {\n",
       "        vertical-align: top;\n",
       "    }\n",
       "\n",
       "    .dataframe thead th {\n",
       "        text-align: right;\n",
       "    }\n",
       "</style>\n",
       "<table border=\"1\" class=\"dataframe\">\n",
       "  <thead>\n",
       "    <tr style=\"text-align: right;\">\n",
       "      <th></th>\n",
       "      <th>Channel Title</th>\n",
       "      <th>Channel Username</th>\n",
       "      <th>ID</th>\n",
       "      <th>Message</th>\n",
       "      <th>Date</th>\n",
       "      <th>Media Path</th>\n",
       "    </tr>\n",
       "  </thead>\n",
       "  <tbody>\n",
       "    <tr>\n",
       "      <th>0</th>\n",
       "      <td>CheMed</td>\n",
       "      <td>@CheMed123</td>\n",
       "      <td>97</td>\n",
       "      <td>⚠️Notice!\\r\\nDear esteemed customers,\\r\\nDue t...</td>\n",
       "      <td>2023-02-10 12:23:06+00:00</td>\n",
       "      <td>photos\\@CheMed123_97.jpg</td>\n",
       "    </tr>\n",
       "    <tr>\n",
       "      <th>1</th>\n",
       "      <td>CheMed</td>\n",
       "      <td>@CheMed123</td>\n",
       "      <td>96</td>\n",
       "      <td>Mela-One በውስጡ ሆርሞን ያለው ድንገተኛ ወሊድ መቆጣጠርያ ሲሆን ያለ...</td>\n",
       "      <td>2023-02-02 08:58:52+00:00</td>\n",
       "      <td>photos\\@CheMed123_96.jpg</td>\n",
       "    </tr>\n",
       "    <tr>\n",
       "      <th>2</th>\n",
       "      <td>CheMed</td>\n",
       "      <td>@CheMed123</td>\n",
       "      <td>95</td>\n",
       "      <td>አዚትሮማይሲን በሃኪም መድሃኒት ማዘዣ ከሚታዘዙ አንቲባዮቲኮች አንዱ ሲሆን...</td>\n",
       "      <td>2023-02-01 08:59:37+00:00</td>\n",
       "      <td>photos\\@CheMed123_95.jpg</td>\n",
       "    </tr>\n",
       "    <tr>\n",
       "      <th>3</th>\n",
       "      <td>CheMed</td>\n",
       "      <td>@CheMed123</td>\n",
       "      <td>94</td>\n",
       "      <td>Che-Med Trivia #3\\r\\n\\r\\nምግብና መጠጦች አንዳንድ መድሃኒቶ...</td>\n",
       "      <td>2023-01-31 09:19:53+00:00</td>\n",
       "      <td>photos\\@CheMed123_94.jpg</td>\n",
       "    </tr>\n",
       "    <tr>\n",
       "      <th>4</th>\n",
       "      <td>CheMed</td>\n",
       "      <td>@CheMed123</td>\n",
       "      <td>93</td>\n",
       "      <td>Che-Med Trivia #2\\r\\n\\r\\nእንደ Ciprofloxacin, Do...</td>\n",
       "      <td>2023-01-30 09:45:25+00:00</td>\n",
       "      <td>photos\\@CheMed123_93.jpg</td>\n",
       "    </tr>\n",
       "  </tbody>\n",
       "</table>\n",
       "</div>"
      ],
      "text/plain": [
       "  Channel Title Channel Username  ID  \\\n",
       "0        CheMed       @CheMed123  97   \n",
       "1        CheMed       @CheMed123  96   \n",
       "2        CheMed       @CheMed123  95   \n",
       "3        CheMed       @CheMed123  94   \n",
       "4        CheMed       @CheMed123  93   \n",
       "\n",
       "                                             Message  \\\n",
       "0  ⚠️Notice!\\r\\nDear esteemed customers,\\r\\nDue t...   \n",
       "1  Mela-One በውስጡ ሆርሞን ያለው ድንገተኛ ወሊድ መቆጣጠርያ ሲሆን ያለ...   \n",
       "2  አዚትሮማይሲን በሃኪም መድሃኒት ማዘዣ ከሚታዘዙ አንቲባዮቲኮች አንዱ ሲሆን...   \n",
       "3  Che-Med Trivia #3\\r\\n\\r\\nምግብና መጠጦች አንዳንድ መድሃኒቶ...   \n",
       "4  Che-Med Trivia #2\\r\\n\\r\\nእንደ Ciprofloxacin, Do...   \n",
       "\n",
       "                        Date                Media Path  \n",
       "0  2023-02-10 12:23:06+00:00  photos\\@CheMed123_97.jpg  \n",
       "1  2023-02-02 08:58:52+00:00  photos\\@CheMed123_96.jpg  \n",
       "2  2023-02-01 08:59:37+00:00  photos\\@CheMed123_95.jpg  \n",
       "3  2023-01-31 09:19:53+00:00  photos\\@CheMed123_94.jpg  \n",
       "4  2023-01-30 09:45:25+00:00  photos\\@CheMed123_93.jpg  "
      ]
     },
     "execution_count": 4,
     "metadata": {},
     "output_type": "execute_result"
    }
   ],
   "source": [
    "tg_data2 = pd.read_csv(r'C:\\Users\\pc\\Desktop\\KAIM10X\\Week-7-KAIM-10X\\Week-7-10X\\scripts\\2_telegram_data.csv')\n",
    "tg_data2.head()\n"
   ]
  },
  {
   "cell_type": "code",
   "execution_count": 5,
   "metadata": {},
   "outputs": [
    {
     "data": {
      "text/html": [
       "<div>\n",
       "<style scoped>\n",
       "    .dataframe tbody tr th:only-of-type {\n",
       "        vertical-align: middle;\n",
       "    }\n",
       "\n",
       "    .dataframe tbody tr th {\n",
       "        vertical-align: top;\n",
       "    }\n",
       "\n",
       "    .dataframe thead th {\n",
       "        text-align: right;\n",
       "    }\n",
       "</style>\n",
       "<table border=\"1\" class=\"dataframe\">\n",
       "  <thead>\n",
       "    <tr style=\"text-align: right;\">\n",
       "      <th></th>\n",
       "      <th>Channel Title</th>\n",
       "      <th>Channel Username</th>\n",
       "      <th>ID</th>\n",
       "      <th>Message</th>\n",
       "      <th>Date</th>\n",
       "      <th>Media Path</th>\n",
       "    </tr>\n",
       "  </thead>\n",
       "  <tbody>\n",
       "    <tr>\n",
       "      <th>0</th>\n",
       "      <td>Lobelia pharmacy and cosmetics</td>\n",
       "      <td>@lobelia4cosmetics</td>\n",
       "      <td>15192</td>\n",
       "      <td>NIDO 1+ 2.2KG \\r\\nPrice 6500 birr \\r\\nTelegram...</td>\n",
       "      <td>2025-01-30 14:11:12+00:00</td>\n",
       "      <td>photos\\@lobelia4cosmetics_15192.jpg</td>\n",
       "    </tr>\n",
       "    <tr>\n",
       "      <th>1</th>\n",
       "      <td>Lobelia pharmacy and cosmetics</td>\n",
       "      <td>@lobelia4cosmetics</td>\n",
       "      <td>15191</td>\n",
       "      <td>NEUROPRO CARE \\r\\nPrice 5500 birr \\r\\nTelegram...</td>\n",
       "      <td>2025-01-30 14:11:11+00:00</td>\n",
       "      <td>photos\\@lobelia4cosmetics_15191.jpg</td>\n",
       "    </tr>\n",
       "    <tr>\n",
       "      <th>2</th>\n",
       "      <td>Lobelia pharmacy and cosmetics</td>\n",
       "      <td>@lobelia4cosmetics</td>\n",
       "      <td>15190</td>\n",
       "      <td>GLUCERNA \\r\\nPrice 3300 birr \\r\\nTelegram http...</td>\n",
       "      <td>2025-01-30 14:11:11+00:00</td>\n",
       "      <td>photos\\@lobelia4cosmetics_15190.jpg</td>\n",
       "    </tr>\n",
       "    <tr>\n",
       "      <th>3</th>\n",
       "      <td>Lobelia pharmacy and cosmetics</td>\n",
       "      <td>@lobelia4cosmetics</td>\n",
       "      <td>15189</td>\n",
       "      <td>ENSURE 850GM\\r\\nPrice 3800 birr \\r\\nTelegram h...</td>\n",
       "      <td>2025-01-30 14:11:11+00:00</td>\n",
       "      <td>photos\\@lobelia4cosmetics_15189.jpg</td>\n",
       "    </tr>\n",
       "    <tr>\n",
       "      <th>4</th>\n",
       "      <td>Lobelia pharmacy and cosmetics</td>\n",
       "      <td>@lobelia4cosmetics</td>\n",
       "      <td>15188</td>\n",
       "      <td>APTAMIL NO.3\\r\\nPrice 4000 birr \\r\\nTelegram @...</td>\n",
       "      <td>2025-01-30 13:04:17+00:00</td>\n",
       "      <td>photos\\@lobelia4cosmetics_15188.jpg</td>\n",
       "    </tr>\n",
       "  </tbody>\n",
       "</table>\n",
       "</div>"
      ],
      "text/plain": [
       "                    Channel Title    Channel Username     ID  \\\n",
       "0  Lobelia pharmacy and cosmetics  @lobelia4cosmetics  15192   \n",
       "1  Lobelia pharmacy and cosmetics  @lobelia4cosmetics  15191   \n",
       "2  Lobelia pharmacy and cosmetics  @lobelia4cosmetics  15190   \n",
       "3  Lobelia pharmacy and cosmetics  @lobelia4cosmetics  15189   \n",
       "4  Lobelia pharmacy and cosmetics  @lobelia4cosmetics  15188   \n",
       "\n",
       "                                             Message  \\\n",
       "0  NIDO 1+ 2.2KG \\r\\nPrice 6500 birr \\r\\nTelegram...   \n",
       "1  NEUROPRO CARE \\r\\nPrice 5500 birr \\r\\nTelegram...   \n",
       "2  GLUCERNA \\r\\nPrice 3300 birr \\r\\nTelegram http...   \n",
       "3  ENSURE 850GM\\r\\nPrice 3800 birr \\r\\nTelegram h...   \n",
       "4  APTAMIL NO.3\\r\\nPrice 4000 birr \\r\\nTelegram @...   \n",
       "\n",
       "                        Date                           Media Path  \n",
       "0  2025-01-30 14:11:12+00:00  photos\\@lobelia4cosmetics_15192.jpg  \n",
       "1  2025-01-30 14:11:11+00:00  photos\\@lobelia4cosmetics_15191.jpg  \n",
       "2  2025-01-30 14:11:11+00:00  photos\\@lobelia4cosmetics_15190.jpg  \n",
       "3  2025-01-30 14:11:11+00:00  photos\\@lobelia4cosmetics_15189.jpg  \n",
       "4  2025-01-30 13:04:17+00:00  photos\\@lobelia4cosmetics_15188.jpg  "
      ]
     },
     "execution_count": 5,
     "metadata": {},
     "output_type": "execute_result"
    }
   ],
   "source": [
    "tg_data3 = pd.read_csv(r'C:\\Users\\pc\\Desktop\\KAIM10X\\Week-7-KAIM-10X\\Week-7-10X\\scripts\\3_telegram_data.csv')\n",
    "tg_data3.head()"
   ]
  },
  {
   "cell_type": "markdown",
   "metadata": {},
   "source": [
    "# Data Cleaning and Transformation\n",
    "Text Cleaning: Perform text cleaning tasks such as removing special characters, and handling missing values."
   ]
  },
  {
   "cell_type": "markdown",
   "metadata": {},
   "source": [
    "# Remove duplicate rows"
   ]
  },
  {
   "cell_type": "code",
   "execution_count": 7,
   "metadata": {},
   "outputs": [
    {
     "name": "stdout",
     "output_type": "stream",
     "text": [
      "        Channel Title Channel Username   ID  \\\n",
      "0    Doctors Ethiopia       @DoctorsET  864   \n",
      "1    Doctors Ethiopia       @DoctorsET  863   \n",
      "2    Doctors Ethiopia       @DoctorsET  862   \n",
      "3    Doctors Ethiopia       @DoctorsET  861   \n",
      "4    Doctors Ethiopia       @DoctorsET  860   \n",
      "..                ...              ...  ...   \n",
      "798  Doctors Ethiopia       @DoctorsET    7   \n",
      "799  Doctors Ethiopia       @DoctorsET    6   \n",
      "800  Doctors Ethiopia       @DoctorsET    5   \n",
      "801  Doctors Ethiopia       @DoctorsET    3   \n",
      "802  Doctors Ethiopia       @DoctorsET    1   \n",
      "\n",
      "                                               Message  \\\n",
      "0    https://youtu.be/5DBoEm-8kmA?si=LDLuEecNfULJVD...   \n",
      "1    ዶክተርስ ኢትዮጵያ በ አዲስ አቀራረብ በ ቴሌቪዥን ፕሮግራሙን ለመጀመር ከ...   \n",
      "2    ሞት በስኳር \\r\\n\\r\\nለልጆቻችን የምናሲዘው ምሳቃ ሳናቀው እድሚያቸውን...   \n",
      "3    ከ HIV የተፈወሰ ሰው አጋጥሟችሁ ያቃል ? ፈውስ እና ህክምና ?\\r\\n\\...   \n",
      "4    በቅርብ ጊዜ በሃገራችን ላይ እየተስተዋለ ያለ የተመሳሳይ ፆታ ( Homos...   \n",
      "..                                                 ...   \n",
      "798  ማይግሬንን እንዴት ልከላከል?\\r\\nማይግሬን የማይድን በሽታ ቢሆንም የሚከ...   \n",
      "799                                                NaN   \n",
      "800                Production crew!\\r\\nDoctorsEthiopia   \n",
      "801                             DoctorsEthiopia on LTV   \n",
      "802                                                NaN   \n",
      "\n",
      "                          Date               Media Path  \n",
      "0    2023-12-18 17:04:02+00:00                      NaN  \n",
      "1    2023-11-03 16:14:39+00:00                      NaN  \n",
      "2    2023-10-02 16:37:39+00:00                      NaN  \n",
      "3    2023-09-16 07:54:32+00:00                      NaN  \n",
      "4    2023-09-01 16:16:15+00:00                      NaN  \n",
      "..                         ...                      ...  \n",
      "798  2019-04-21 17:37:45+00:00                      NaN  \n",
      "799  2019-04-21 17:34:18+00:00  photos\\@DoctorsET_6.jpg  \n",
      "800  2019-04-21 06:44:30+00:00  photos\\@DoctorsET_5.jpg  \n",
      "801  2019-04-20 22:32:49+00:00  photos\\@DoctorsET_3.jpg  \n",
      "802  2019-03-30 18:58:34+00:00                      NaN  \n",
      "\n",
      "[803 rows x 6 columns]\n"
     ]
    }
   ],
   "source": [
    "\n",
    "tg_data1.drop_duplicates(inplace=True)\n",
    "print(tg_data1)"
   ]
  },
  {
   "cell_type": "markdown",
   "metadata": {},
   "source": [
    "# Save the cleaned data back to a CSV file\n"
   ]
  },
  {
   "cell_type": "code",
   "execution_count": 6,
   "metadata": {},
   "outputs": [
    {
     "name": "stdout",
     "output_type": "stream",
     "text": [
      "        Channel Title Channel Username   ID  \\\n",
      "0    Doctors Ethiopia       @DoctorsET  864   \n",
      "1    Doctors Ethiopia       @DoctorsET  863   \n",
      "2    Doctors Ethiopia       @DoctorsET  862   \n",
      "3    Doctors Ethiopia       @DoctorsET  861   \n",
      "4    Doctors Ethiopia       @DoctorsET  860   \n",
      "..                ...              ...  ...   \n",
      "798  Doctors Ethiopia       @DoctorsET    7   \n",
      "799  Doctors Ethiopia       @DoctorsET    6   \n",
      "800  Doctors Ethiopia       @DoctorsET    5   \n",
      "801  Doctors Ethiopia       @DoctorsET    3   \n",
      "802  Doctors Ethiopia       @DoctorsET    1   \n",
      "\n",
      "                                               Message  \\\n",
      "0    https://youtu.be/5DBoEm-8kmA?si=LDLuEecNfULJVD...   \n",
      "1    ዶክተርስ ኢትዮጵያ በ አዲስ አቀራረብ በ ቴሌቪዥን ፕሮግራሙን ለመጀመር ከ...   \n",
      "2    ሞት በስኳር \\r\\n\\r\\nለልጆቻችን የምናሲዘው ምሳቃ ሳናቀው እድሚያቸውን...   \n",
      "3    ከ HIV የተፈወሰ ሰው አጋጥሟችሁ ያቃል ? ፈውስ እና ህክምና ?\\r\\n\\...   \n",
      "4    በቅርብ ጊዜ በሃገራችን ላይ እየተስተዋለ ያለ የተመሳሳይ ፆታ ( Homos...   \n",
      "..                                                 ...   \n",
      "798  ማይግሬንን እንዴት ልከላከል?\\r\\nማይግሬን የማይድን በሽታ ቢሆንም የሚከ...   \n",
      "799                                                NaN   \n",
      "800                Production crew!\\r\\nDoctorsEthiopia   \n",
      "801                             DoctorsEthiopia on LTV   \n",
      "802                                                NaN   \n",
      "\n",
      "                          Date               Media Path  \n",
      "0    2023-12-18 17:04:02+00:00                      NaN  \n",
      "1    2023-11-03 16:14:39+00:00                      NaN  \n",
      "2    2023-10-02 16:37:39+00:00                      NaN  \n",
      "3    2023-09-16 07:54:32+00:00                      NaN  \n",
      "4    2023-09-01 16:16:15+00:00                      NaN  \n",
      "..                         ...                      ...  \n",
      "798  2019-04-21 17:37:45+00:00                      NaN  \n",
      "799  2019-04-21 17:34:18+00:00  photos\\@DoctorsET_6.jpg  \n",
      "800  2019-04-21 06:44:30+00:00  photos\\@DoctorsET_5.jpg  \n",
      "801  2019-04-20 22:32:49+00:00  photos\\@DoctorsET_3.jpg  \n",
      "802  2019-03-30 18:58:34+00:00                      NaN  \n",
      "\n",
      "[803 rows x 6 columns]\n"
     ]
    }
   ],
   "source": [
    "tg_data1.to_csv(\"cleaned_telegram_data.csv\", index=False)\n",
    "print(tg_data1)"
   ]
  },
  {
   "cell_type": "markdown",
   "metadata": {},
   "source": [
    "# Fill missing values with a specified value, for example, filling missing values with 0"
   ]
  },
  {
   "cell_type": "code",
   "execution_count": 8,
   "metadata": {},
   "outputs": [],
   "source": [
    "\n",
    "tg_data1.fillna(0, inplace=True)"
   ]
  },
  {
   "cell_type": "markdown",
   "metadata": {},
   "source": [
    "# 'Date' column needs to be converted to datetime format"
   ]
  },
  {
   "cell_type": "code",
   "execution_count": 10,
   "metadata": {},
   "outputs": [
    {
     "name": "stdout",
     "output_type": "stream",
     "text": [
      "        Channel Title Channel Username   ID  \\\n",
      "0    Doctors Ethiopia       @DoctorsET  864   \n",
      "1    Doctors Ethiopia       @DoctorsET  863   \n",
      "2    Doctors Ethiopia       @DoctorsET  862   \n",
      "3    Doctors Ethiopia       @DoctorsET  861   \n",
      "4    Doctors Ethiopia       @DoctorsET  860   \n",
      "..                ...              ...  ...   \n",
      "798  Doctors Ethiopia       @DoctorsET    7   \n",
      "799  Doctors Ethiopia       @DoctorsET    6   \n",
      "800  Doctors Ethiopia       @DoctorsET    5   \n",
      "801  Doctors Ethiopia       @DoctorsET    3   \n",
      "802  Doctors Ethiopia       @DoctorsET    1   \n",
      "\n",
      "                                               Message  \\\n",
      "0    https://youtu.be/5DBoEm-8kmA?si=LDLuEecNfULJVD...   \n",
      "1    ዶክተርስ ኢትዮጵያ በ አዲስ አቀራረብ በ ቴሌቪዥን ፕሮግራሙን ለመጀመር ከ...   \n",
      "2    ሞት በስኳር \\r\\n\\r\\nለልጆቻችን የምናሲዘው ምሳቃ ሳናቀው እድሚያቸውን...   \n",
      "3    ከ HIV የተፈወሰ ሰው አጋጥሟችሁ ያቃል ? ፈውስ እና ህክምና ?\\r\\n\\...   \n",
      "4    በቅርብ ጊዜ በሃገራችን ላይ እየተስተዋለ ያለ የተመሳሳይ ፆታ ( Homos...   \n",
      "..                                                 ...   \n",
      "798  ማይግሬንን እንዴት ልከላከል?\\r\\nማይግሬን የማይድን በሽታ ቢሆንም የሚከ...   \n",
      "799                                                  0   \n",
      "800                Production crew!\\r\\nDoctorsEthiopia   \n",
      "801                             DoctorsEthiopia on LTV   \n",
      "802                                                  0   \n",
      "\n",
      "                         Date               Media Path  \n",
      "0   2023-12-18 17:04:02+00:00                        0  \n",
      "1   2023-11-03 16:14:39+00:00                        0  \n",
      "2   2023-10-02 16:37:39+00:00                        0  \n",
      "3   2023-09-16 07:54:32+00:00                        0  \n",
      "4   2023-09-01 16:16:15+00:00                        0  \n",
      "..                        ...                      ...  \n",
      "798 2019-04-21 17:37:45+00:00                        0  \n",
      "799 2019-04-21 17:34:18+00:00  photos\\@DoctorsET_6.jpg  \n",
      "800 2019-04-21 06:44:30+00:00  photos\\@DoctorsET_5.jpg  \n",
      "801 2019-04-20 22:32:49+00:00  photos\\@DoctorsET_3.jpg  \n",
      "802 2019-03-30 18:58:34+00:00                        0  \n",
      "\n",
      "[803 rows x 6 columns]\n"
     ]
    }
   ],
   "source": [
    "\n",
    "tg_data1['Date'] = pd.to_datetime(tg_data1['Date'])\n",
    "print(tg_data1)"
   ]
  },
  {
   "cell_type": "markdown",
   "metadata": {},
   "source": [
    "# Assuming 'Email' is a column containing email addresses"
   ]
  },
  {
   "cell_type": "code",
   "execution_count": 11,
   "metadata": {},
   "outputs": [],
   "source": [
    "\n",
    "import re\n",
    "\n",
    "pattern = r\"\\b[A-Za-z0-9._%+-]+@[A-Za-z0-9.-]+\\.[A-Z|a-z]{2,}\\b\"\n",
    "\n"
   ]
  },
  {
   "cell_type": "markdown",
   "metadata": {},
   "source": [
    "# Check for rows where 'Date' could not be converted to datetime format"
   ]
  },
  {
   "cell_type": "code",
   "execution_count": 16,
   "metadata": {},
   "outputs": [
    {
     "name": "stdout",
     "output_type": "stream",
     "text": [
      "        Channel Title Channel Username   ID  \\\n",
      "0    Doctors Ethiopia       @DoctorsET  864   \n",
      "1    Doctors Ethiopia       @DoctorsET  863   \n",
      "2    Doctors Ethiopia       @DoctorsET  862   \n",
      "3    Doctors Ethiopia       @DoctorsET  861   \n",
      "4    Doctors Ethiopia       @DoctorsET  860   \n",
      "..                ...              ...  ...   \n",
      "798  Doctors Ethiopia       @DoctorsET    7   \n",
      "799  Doctors Ethiopia       @DoctorsET    6   \n",
      "800  Doctors Ethiopia       @DoctorsET    5   \n",
      "801  Doctors Ethiopia       @DoctorsET    3   \n",
      "802  Doctors Ethiopia       @DoctorsET    1   \n",
      "\n",
      "                                               Message  \\\n",
      "0    https://youtu.be/5DBoEm-8kmA?si=LDLuEecNfULJVD...   \n",
      "1    ዶክተርስ ኢትዮጵያ በ አዲስ አቀራረብ በ ቴሌቪዥን ፕሮግራሙን ለመጀመር ከ...   \n",
      "2    ሞት በስኳር \\r\\n\\r\\nለልጆቻችን የምናሲዘው ምሳቃ ሳናቀው እድሚያቸውን...   \n",
      "3    ከ HIV የተፈወሰ ሰው አጋጥሟችሁ ያቃል ? ፈውስ እና ህክምና ?\\r\\n\\...   \n",
      "4    በቅርብ ጊዜ በሃገራችን ላይ እየተስተዋለ ያለ የተመሳሳይ ፆታ ( Homos...   \n",
      "..                                                 ...   \n",
      "798  ማይግሬንን እንዴት ልከላከል?\\r\\nማይግሬን የማይድን በሽታ ቢሆንም የሚከ...   \n",
      "799                                                  0   \n",
      "800                Production crew!\\r\\nDoctorsEthiopia   \n",
      "801                             DoctorsEthiopia on LTV   \n",
      "802                                                  0   \n",
      "\n",
      "                         Date               Media Path  \n",
      "0   2023-12-18 17:04:02+00:00                        0  \n",
      "1   2023-11-03 16:14:39+00:00                        0  \n",
      "2   2023-10-02 16:37:39+00:00                        0  \n",
      "3   2023-09-16 07:54:32+00:00                        0  \n",
      "4   2023-09-01 16:16:15+00:00                        0  \n",
      "..                        ...                      ...  \n",
      "798 2019-04-21 17:37:45+00:00                        0  \n",
      "799 2019-04-21 17:34:18+00:00  photos\\@DoctorsET_6.jpg  \n",
      "800 2019-04-21 06:44:30+00:00  photos\\@DoctorsET_5.jpg  \n",
      "801 2019-04-20 22:32:49+00:00  photos\\@DoctorsET_3.jpg  \n",
      "802 2019-03-30 18:58:34+00:00                        0  \n",
      "\n",
      "[803 rows x 6 columns]\n"
     ]
    }
   ],
   "source": [
    "\n",
    "invalid_dates = tg_data1['Date'][tg_data1['Date'].isnull()]\n",
    "print(tg_data1)"
   ]
  },
  {
   "cell_type": "markdown",
   "metadata": {},
   "source": [
    "# Convert 'Date' column to datetime format"
   ]
  },
  {
   "cell_type": "code",
   "execution_count": 17,
   "metadata": {},
   "outputs": [],
   "source": [
    "\n",
    "tg_data1['Date'] = pd.to_datetime(tg_data1['Date'], errors='coerce')"
   ]
  },
  {
   "cell_type": "code",
   "execution_count": 18,
   "metadata": {},
   "outputs": [
    {
     "name": "stdout",
     "output_type": "stream",
     "text": [
      "        Channel Title Channel Username   ID  \\\n",
      "0    Doctors Ethiopia       @DoctorsET  864   \n",
      "1    Doctors Ethiopia       @DoctorsET  863   \n",
      "2    Doctors Ethiopia       @DoctorsET  862   \n",
      "3    Doctors Ethiopia       @DoctorsET  861   \n",
      "4    Doctors Ethiopia       @DoctorsET  860   \n",
      "..                ...              ...  ...   \n",
      "798  Doctors Ethiopia       @DoctorsET    7   \n",
      "799  Doctors Ethiopia       @DoctorsET    6   \n",
      "800  Doctors Ethiopia       @DoctorsET    5   \n",
      "801  Doctors Ethiopia       @DoctorsET    3   \n",
      "802  Doctors Ethiopia       @DoctorsET    1   \n",
      "\n",
      "                                               Message  \\\n",
      "0    https://youtu.be/5DBoEm-8kmA?si=LDLuEecNfULJVD...   \n",
      "1    ዶክተርስ ኢትዮጵያ በ አዲስ አቀራረብ በ ቴሌቪዥን ፕሮግራሙን ለመጀመር ከ...   \n",
      "2    ሞት በስኳር \\r\\n\\r\\nለልጆቻችን የምናሲዘው ምሳቃ ሳናቀው እድሚያቸውን...   \n",
      "3    ከ HIV የተፈወሰ ሰው አጋጥሟችሁ ያቃል ? ፈውስ እና ህክምና ?\\r\\n\\...   \n",
      "4    በቅርብ ጊዜ በሃገራችን ላይ እየተስተዋለ ያለ የተመሳሳይ ፆታ ( Homos...   \n",
      "..                                                 ...   \n",
      "798  ማይግሬንን እንዴት ልከላከል?\\r\\nማይግሬን የማይድን በሽታ ቢሆንም የሚከ...   \n",
      "799                                                  0   \n",
      "800                Production crew!\\r\\nDoctorsEthiopia   \n",
      "801                             DoctorsEthiopia on LTV   \n",
      "802                                                  0   \n",
      "\n",
      "                         Date               Media Path  \n",
      "0   2023-12-18 17:04:02+00:00                        0  \n",
      "1   2023-11-03 16:14:39+00:00                        0  \n",
      "2   2023-10-02 16:37:39+00:00                        0  \n",
      "3   2023-09-16 07:54:32+00:00                        0  \n",
      "4   2023-09-01 16:16:15+00:00                        0  \n",
      "..                        ...                      ...  \n",
      "798 2019-04-21 17:37:45+00:00                        0  \n",
      "799 2019-04-21 17:34:18+00:00  photos\\@DoctorsET_6.jpg  \n",
      "800 2019-04-21 06:44:30+00:00  photos\\@DoctorsET_5.jpg  \n",
      "801 2019-04-20 22:32:49+00:00  photos\\@DoctorsET_3.jpg  \n",
      "802 2019-03-30 18:58:34+00:00                        0  \n",
      "\n",
      "[803 rows x 6 columns]\n"
     ]
    }
   ],
   "source": [
    "# Print the column names in the DataFrame\n",
    "print(tg_data1)"
   ]
  },
  {
   "cell_type": "code",
   "execution_count": 19,
   "metadata": {},
   "outputs": [
    {
     "name": "stdout",
     "output_type": "stream",
     "text": [
      "        Channel Title Channel Username   ID  \\\n",
      "0    Doctors Ethiopia       @DoctorsET  864   \n",
      "1    Doctors Ethiopia       @DoctorsET  863   \n",
      "2    Doctors Ethiopia       @DoctorsET  862   \n",
      "3    Doctors Ethiopia       @DoctorsET  861   \n",
      "4    Doctors Ethiopia       @DoctorsET  860   \n",
      "..                ...              ...  ...   \n",
      "798  Doctors Ethiopia       @DoctorsET    7   \n",
      "799  Doctors Ethiopia       @DoctorsET    6   \n",
      "800  Doctors Ethiopia       @DoctorsET    5   \n",
      "801  Doctors Ethiopia       @DoctorsET    3   \n",
      "802  Doctors Ethiopia       @DoctorsET    1   \n",
      "\n",
      "                                               Message  \\\n",
      "0    https://youtu.be/5DBoEm-8kmA?si=LDLuEecNfULJVD...   \n",
      "1    ዶክተርስ ኢትዮጵያ በ አዲስ አቀራረብ በ ቴሌቪዥን ፕሮግራሙን ለመጀመር ከ...   \n",
      "2    ሞት በስኳር \\r\\n\\r\\nለልጆቻችን የምናሲዘው ምሳቃ ሳናቀው እድሚያቸውን...   \n",
      "3    ከ HIV የተፈወሰ ሰው አጋጥሟችሁ ያቃል ? ፈውስ እና ህክምና ?\\r\\n\\...   \n",
      "4    በቅርብ ጊዜ በሃገራችን ላይ እየተስተዋለ ያለ የተመሳሳይ ፆታ ( Homos...   \n",
      "..                                                 ...   \n",
      "798  ማይግሬንን እንዴት ልከላከል?\\r\\nማይግሬን የማይድን በሽታ ቢሆንም የሚከ...   \n",
      "799                                                  0   \n",
      "800                Production crew!\\r\\nDoctorsEthiopia   \n",
      "801                             DoctorsEthiopia on LTV   \n",
      "802                                                  0   \n",
      "\n",
      "                         Date               Media Path  \n",
      "0   2023-12-18 17:04:02+00:00                        0  \n",
      "1   2023-11-03 16:14:39+00:00                        0  \n",
      "2   2023-10-02 16:37:39+00:00                        0  \n",
      "3   2023-09-16 07:54:32+00:00                        0  \n",
      "4   2023-09-01 16:16:15+00:00                        0  \n",
      "..                        ...                      ...  \n",
      "798 2019-04-21 17:37:45+00:00                        0  \n",
      "799 2019-04-21 17:34:18+00:00  photos\\@DoctorsET_6.jpg  \n",
      "800 2019-04-21 06:44:30+00:00  photos\\@DoctorsET_5.jpg  \n",
      "801 2019-04-20 22:32:49+00:00  photos\\@DoctorsET_3.jpg  \n",
      "802 2019-03-30 18:58:34+00:00                        0  \n",
      "\n",
      "[803 rows x 6 columns]\n"
     ]
    }
   ],
   "source": [
    "invalid_dates = tg_data1['Date'][tg_data1['Date'].isnull()]\n",
    "print(tg_data1)"
   ]
  },
  {
   "cell_type": "markdown",
   "metadata": {},
   "source": [
    "# Print rows with invalid dates"
   ]
  },
  {
   "cell_type": "code",
   "execution_count": 20,
   "metadata": {},
   "outputs": [
    {
     "name": "stdout",
     "output_type": "stream",
     "text": [
      "Rows with invalid dates:\n",
      "Series([], Name: Date, dtype: datetime64[ns, UTC])\n"
     ]
    }
   ],
   "source": [
    "\n",
    "print(\"Rows with invalid dates:\")\n",
    "print(invalid_dates)"
   ]
  },
  {
   "cell_type": "code",
   "execution_count": 21,
   "metadata": {},
   "outputs": [
    {
     "name": "stdout",
     "output_type": "stream",
     "text": [
      "Requirement already satisfied: dbt in c:\\users\\pc\\anaconda3\\lib\\site-packages (1.0.0.38.25)\n",
      "Requirement already satisfied: setuptools>=61.2 in c:\\users\\pc\\anaconda3\\lib\\site-packages (from dbt) (75.1.0)\n",
      "Note: you may need to restart the kernel to use updated packages.\n"
     ]
    }
   ],
   "source": [
    "pip install dbt"
   ]
  },
  {
   "cell_type": "markdown",
   "metadata": {},
   "source": [
    "# Run the dbt command to initialize a new project"
   ]
  },
  {
   "cell_type": "code",
   "execution_count": 25,
   "metadata": {},
   "outputs": [
    {
     "data": {
      "text/plain": [
       "CompletedProcess(args=['dbt', 'init', 'my_project', '--project-dir', '.'], returncode=1)"
      ]
     },
     "execution_count": 25,
     "metadata": {},
     "output_type": "execute_result"
    }
   ],
   "source": [
    "import subprocess\n",
    "\n",
    "\n",
    "subprocess.run([\"dbt\", \"init\", \"my_project\", \"--project-dir\", \".\"])"
   ]
  },
  {
   "cell_type": "code",
   "execution_count": 24,
   "metadata": {},
   "outputs": [
    {
     "name": "stderr",
     "output_type": "stream",
     "text": [
      "Error: unknown command \"init\" for \"dbt\"\n",
      "Run 'dbt --help' for usage.\n"
     ]
    }
   ],
   "source": [
    "!dbt init my_project "
   ]
  },
  {
   "cell_type": "markdown",
   "metadata": {},
   "source": [
    "# Tokenization: Tokenize the text data into words or subwords for further processing."
   ]
  },
  {
   "cell_type": "code",
   "execution_count": null,
   "metadata": {},
   "outputs": [],
   "source": []
  },
  {
   "cell_type": "code",
   "execution_count": null,
   "metadata": {},
   "outputs": [],
   "source": []
  },
  {
   "cell_type": "code",
   "execution_count": null,
   "metadata": {},
   "outputs": [],
   "source": []
  },
  {
   "cell_type": "code",
   "execution_count": null,
   "metadata": {},
   "outputs": [],
   "source": []
  }
 ],
 "metadata": {
  "kernelspec": {
   "display_name": "base",
   "language": "python",
   "name": "python3"
  },
  "language_info": {
   "codemirror_mode": {
    "name": "ipython",
    "version": 3
   },
   "file_extension": ".py",
   "mimetype": "text/x-python",
   "name": "python",
   "nbconvert_exporter": "python",
   "pygments_lexer": "ipython3",
   "version": "3.12.7"
  }
 },
 "nbformat": 4,
 "nbformat_minor": 2
}
